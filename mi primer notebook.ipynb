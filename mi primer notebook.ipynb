{
 "cells": [
  {
   "cell_type": "markdown",
   "id": "91da3fef",
   "metadata": {},
   "source": [
    "#Mi Primer Notebook"
   ]
  },
  {
   "cell_type": "markdown",
   "id": "9c055554",
   "metadata": {},
   "source": [
    "# Mi Primer Notebook"
   ]
  },
  {
   "cell_type": "code",
   "execution_count": 1,
   "id": "82beb2bc",
   "metadata": {},
   "outputs": [
    {
     "ename": "SyntaxError",
     "evalue": "invalid character in identifier (699829516.py, line 1)",
     "output_type": "error",
     "traceback": [
      "\u001b[1;36m  Cell \u001b[1;32mIn[1], line 1\u001b[1;36m\u001b[0m\n\u001b[1;33m    🔭 I’m currently working on ...\u001b[0m\n\u001b[1;37m    ^\u001b[0m\n\u001b[1;31mSyntaxError\u001b[0m\u001b[1;31m:\u001b[0m invalid character in identifier\n"
     ]
    }
   ],
   "source": [
    " 🔭 I’m currently working on ...\n",
    "- 🌱 I’m currently learning ...\n",
    "- 👯 I’m looking to collaborate on ...\n",
    "- 🤔 I’m looking for help with ...\n",
    "- 💬 Ask me about ...\n",
    "- 📫 How to reach me: ...\n",
    "- 😄 Pronouns: ...\n",
    "- ⚡ Fun fact: ..."
   ]
  },
  {
   "cell_type": "code",
   "execution_count": null,
   "id": "348cc590",
   "metadata": {},
   "outputs": [],
   "source": []
  }
 ],
 "metadata": {
  "kernelspec": {
   "display_name": "Python 3 (ipykernel)",
   "language": "python",
   "name": "python3"
  },
  "language_info": {
   "codemirror_mode": {
    "name": "ipython",
    "version": 3
   },
   "file_extension": ".py",
   "mimetype": "text/x-python",
   "name": "python",
   "nbconvert_exporter": "python",
   "pygments_lexer": "ipython3",
   "version": "3.8.6"
  }
 },
 "nbformat": 4,
 "nbformat_minor": 5
}
